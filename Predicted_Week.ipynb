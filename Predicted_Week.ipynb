{
  "cells": [
    {
      "cell_type": "markdown",
      "source": [
        "# ***IMPORT DATASET***"
      ],
      "metadata": {
        "id": "ymbMgEtTi_g6"
      }
    },
    {
      "cell_type": "code",
      "execution_count": 3,
      "metadata": {
        "id": "RkrMv7FnKp8H"
      },
      "outputs": [],
      "source": [
        "import numpy as np\n",
        "import matplotlib.pyplot as plt\n",
        "import pandas as pd\n",
        "import time\n",
        "import statistics\n",
        "from pandas.tseries.frequencies import to_offset"
      ]
    },
    {
      "cell_type": "code",
      "execution_count": 4,
      "metadata": {
        "id": "VFQ7Rob4QnZ1"
      },
      "outputs": [],
      "source": [
        "dataset_train = pd.read_csv('/content/BABA (1).csv', index_col=['Date'], parse_dates=['Date'])\n",
        "dataset_train = dataset_train.resample('W').agg({'Open': 'mean', \n",
        "                               'High': 'max',\n",
        "                               'Low': 'min',\n",
        "                               'Close': 'mean',\n",
        "                               'Adj Close': 'mean',\n",
        "                               'Volume': 'mean'})\n",
        "dataset_train = dataset_train.drop('Volume', axis=1)\n",
        "\n",
        "train = dataset_train.iloc[:45,:]\n",
        "test = dataset_train.iloc[46:,:]"
      ]
    },
    {
      "cell_type": "code",
      "execution_count": 5,
      "metadata": {
        "colab": {
          "base_uri": "https://localhost:8080/",
          "height": 237
        },
        "id": "YpgTTI9FQpsm",
        "outputId": "c0f2a54b-d991-4465-9eb4-702f8d33f202"
      },
      "outputs": [
        {
          "output_type": "execute_result",
          "data": {
            "text/plain": [
              "                  Open        High         Low       Close   Adj Close\n",
              "Date                                                                  \n",
              "2021-12-12  122.800000  129.449997  113.430000  124.638001  124.638001\n",
              "2021-12-19  121.673999  127.650002  117.769997  122.728000  122.728000\n",
              "2021-12-26  117.309999  122.980003  113.695000  118.612501  118.612501\n",
              "2022-01-02  116.344002  124.300003  110.379997  117.051999  117.051999\n",
              "2022-01-09  122.282001  133.880005  115.769997  123.507999  123.507999"
            ],
            "text/html": [
              "\n",
              "  <div id=\"df-799ca669-0bf5-4160-a9a7-5ebda5b05589\">\n",
              "    <div class=\"colab-df-container\">\n",
              "      <div>\n",
              "<style scoped>\n",
              "    .dataframe tbody tr th:only-of-type {\n",
              "        vertical-align: middle;\n",
              "    }\n",
              "\n",
              "    .dataframe tbody tr th {\n",
              "        vertical-align: top;\n",
              "    }\n",
              "\n",
              "    .dataframe thead th {\n",
              "        text-align: right;\n",
              "    }\n",
              "</style>\n",
              "<table border=\"1\" class=\"dataframe\">\n",
              "  <thead>\n",
              "    <tr style=\"text-align: right;\">\n",
              "      <th></th>\n",
              "      <th>Open</th>\n",
              "      <th>High</th>\n",
              "      <th>Low</th>\n",
              "      <th>Close</th>\n",
              "      <th>Adj Close</th>\n",
              "    </tr>\n",
              "    <tr>\n",
              "      <th>Date</th>\n",
              "      <th></th>\n",
              "      <th></th>\n",
              "      <th></th>\n",
              "      <th></th>\n",
              "      <th></th>\n",
              "    </tr>\n",
              "  </thead>\n",
              "  <tbody>\n",
              "    <tr>\n",
              "      <th>2021-12-12</th>\n",
              "      <td>122.800000</td>\n",
              "      <td>129.449997</td>\n",
              "      <td>113.430000</td>\n",
              "      <td>124.638001</td>\n",
              "      <td>124.638001</td>\n",
              "    </tr>\n",
              "    <tr>\n",
              "      <th>2021-12-19</th>\n",
              "      <td>121.673999</td>\n",
              "      <td>127.650002</td>\n",
              "      <td>117.769997</td>\n",
              "      <td>122.728000</td>\n",
              "      <td>122.728000</td>\n",
              "    </tr>\n",
              "    <tr>\n",
              "      <th>2021-12-26</th>\n",
              "      <td>117.309999</td>\n",
              "      <td>122.980003</td>\n",
              "      <td>113.695000</td>\n",
              "      <td>118.612501</td>\n",
              "      <td>118.612501</td>\n",
              "    </tr>\n",
              "    <tr>\n",
              "      <th>2022-01-02</th>\n",
              "      <td>116.344002</td>\n",
              "      <td>124.300003</td>\n",
              "      <td>110.379997</td>\n",
              "      <td>117.051999</td>\n",
              "      <td>117.051999</td>\n",
              "    </tr>\n",
              "    <tr>\n",
              "      <th>2022-01-09</th>\n",
              "      <td>122.282001</td>\n",
              "      <td>133.880005</td>\n",
              "      <td>115.769997</td>\n",
              "      <td>123.507999</td>\n",
              "      <td>123.507999</td>\n",
              "    </tr>\n",
              "  </tbody>\n",
              "</table>\n",
              "</div>\n",
              "      <button class=\"colab-df-convert\" onclick=\"convertToInteractive('df-799ca669-0bf5-4160-a9a7-5ebda5b05589')\"\n",
              "              title=\"Convert this dataframe to an interactive table.\"\n",
              "              style=\"display:none;\">\n",
              "        \n",
              "  <svg xmlns=\"http://www.w3.org/2000/svg\" height=\"24px\"viewBox=\"0 0 24 24\"\n",
              "       width=\"24px\">\n",
              "    <path d=\"M0 0h24v24H0V0z\" fill=\"none\"/>\n",
              "    <path d=\"M18.56 5.44l.94 2.06.94-2.06 2.06-.94-2.06-.94-.94-2.06-.94 2.06-2.06.94zm-11 1L8.5 8.5l.94-2.06 2.06-.94-2.06-.94L8.5 2.5l-.94 2.06-2.06.94zm10 10l.94 2.06.94-2.06 2.06-.94-2.06-.94-.94-2.06-.94 2.06-2.06.94z\"/><path d=\"M17.41 7.96l-1.37-1.37c-.4-.4-.92-.59-1.43-.59-.52 0-1.04.2-1.43.59L10.3 9.45l-7.72 7.72c-.78.78-.78 2.05 0 2.83L4 21.41c.39.39.9.59 1.41.59.51 0 1.02-.2 1.41-.59l7.78-7.78 2.81-2.81c.8-.78.8-2.07 0-2.86zM5.41 20L4 18.59l7.72-7.72 1.47 1.35L5.41 20z\"/>\n",
              "  </svg>\n",
              "      </button>\n",
              "      \n",
              "  <style>\n",
              "    .colab-df-container {\n",
              "      display:flex;\n",
              "      flex-wrap:wrap;\n",
              "      gap: 12px;\n",
              "    }\n",
              "\n",
              "    .colab-df-convert {\n",
              "      background-color: #E8F0FE;\n",
              "      border: none;\n",
              "      border-radius: 50%;\n",
              "      cursor: pointer;\n",
              "      display: none;\n",
              "      fill: #1967D2;\n",
              "      height: 32px;\n",
              "      padding: 0 0 0 0;\n",
              "      width: 32px;\n",
              "    }\n",
              "\n",
              "    .colab-df-convert:hover {\n",
              "      background-color: #E2EBFA;\n",
              "      box-shadow: 0px 1px 2px rgba(60, 64, 67, 0.3), 0px 1px 3px 1px rgba(60, 64, 67, 0.15);\n",
              "      fill: #174EA6;\n",
              "    }\n",
              "\n",
              "    [theme=dark] .colab-df-convert {\n",
              "      background-color: #3B4455;\n",
              "      fill: #D2E3FC;\n",
              "    }\n",
              "\n",
              "    [theme=dark] .colab-df-convert:hover {\n",
              "      background-color: #434B5C;\n",
              "      box-shadow: 0px 1px 3px 1px rgba(0, 0, 0, 0.15);\n",
              "      filter: drop-shadow(0px 1px 2px rgba(0, 0, 0, 0.3));\n",
              "      fill: #FFFFFF;\n",
              "    }\n",
              "  </style>\n",
              "\n",
              "      <script>\n",
              "        const buttonEl =\n",
              "          document.querySelector('#df-799ca669-0bf5-4160-a9a7-5ebda5b05589 button.colab-df-convert');\n",
              "        buttonEl.style.display =\n",
              "          google.colab.kernel.accessAllowed ? 'block' : 'none';\n",
              "\n",
              "        async function convertToInteractive(key) {\n",
              "          const element = document.querySelector('#df-799ca669-0bf5-4160-a9a7-5ebda5b05589');\n",
              "          const dataTable =\n",
              "            await google.colab.kernel.invokeFunction('convertToInteractive',\n",
              "                                                     [key], {});\n",
              "          if (!dataTable) return;\n",
              "\n",
              "          const docLinkHtml = 'Like what you see? Visit the ' +\n",
              "            '<a target=\"_blank\" href=https://colab.research.google.com/notebooks/data_table.ipynb>data table notebook</a>'\n",
              "            + ' to learn more about interactive tables.';\n",
              "          element.innerHTML = '';\n",
              "          dataTable['output_type'] = 'display_data';\n",
              "          await google.colab.output.renderOutput(dataTable, element);\n",
              "          const docLink = document.createElement('div');\n",
              "          docLink.innerHTML = docLinkHtml;\n",
              "          element.appendChild(docLink);\n",
              "        }\n",
              "      </script>\n",
              "    </div>\n",
              "  </div>\n",
              "  "
            ]
          },
          "metadata": {},
          "execution_count": 5
        }
      ],
      "source": [
        "dataset_train.head()"
      ]
    },
    {
      "cell_type": "markdown",
      "source": [
        "# ***PREPROCESSING DATA***"
      ],
      "metadata": {
        "id": "vWJ_Wzc6jIvb"
      }
    },
    {
      "cell_type": "code",
      "execution_count": 6,
      "metadata": {
        "id": "VfQMlidPQqCw",
        "colab": {
          "base_uri": "https://localhost:8080/"
        },
        "outputId": "9b9aec19-84d3-46a7-eb40-1a59969bd3c5"
      },
      "outputs": [
        {
          "output_type": "stream",
          "name": "stdout",
          "text": [
            "(45, 5)\n"
          ]
        }
      ],
      "source": [
        "from sklearn.preprocessing import MinMaxScaler\n",
        "sc = MinMaxScaler(feature_range=(0,1))\n",
        "training_set_scaled = sc.fit_transform(train)\n",
        "print(training_set_scaled.shape)"
      ]
    },
    {
      "cell_type": "code",
      "source": [
        "from statistics import mean\n",
        "X_train = []\n",
        "y_train = []\n",
        "for i in range(5,45):\n",
        "    X_train.append(training_set_scaled[i-5:i])\n",
        "    y_train.append(training_set_scaled[i])\n",
        "X_train, y_train = np.array(X_train), np.array(y_train)"
      ],
      "metadata": {
        "id": "nrx3O2c3j0fs"
      },
      "execution_count": 7,
      "outputs": []
    },
    {
      "cell_type": "code",
      "execution_count": 8,
      "metadata": {
        "colab": {
          "base_uri": "https://localhost:8080/"
        },
        "id": "Vb3FK_oDQtR5",
        "outputId": "988261a5-32e0-4e59-d861-4acead15f712"
      },
      "outputs": [
        {
          "output_type": "stream",
          "name": "stdout",
          "text": [
            "(40, 5, 5)\n"
          ]
        }
      ],
      "source": [
        "X_train = np.reshape(X_train,(X_train.shape[0], X_train.shape[1],X_train.shape[2]))\n",
        "print(X_train.shape)"
      ]
    },
    {
      "cell_type": "code",
      "execution_count": 9,
      "metadata": {
        "colab": {
          "base_uri": "https://localhost:8080/"
        },
        "id": "X4CIDEnuX-hY",
        "outputId": "769f2c75-e883-41b2-cfc7-d63d7d92cdb8"
      },
      "outputs": [
        {
          "output_type": "stream",
          "name": "stdout",
          "text": [
            "(52, 5)\n",
            "(12, 5)\n",
            "(7, 5, 5)\n",
            "(40, 5, 5) (40, 5) (7, 5, 5) (7, 5)\n"
          ]
        },
        {
          "output_type": "stream",
          "name": "stderr",
          "text": [
            "/usr/local/lib/python3.8/dist-packages/sklearn/base.py:450: UserWarning: X does not have valid feature names, but MinMaxScaler was fitted with feature names\n",
            "  warnings.warn(\n"
          ]
        }
      ],
      "source": [
        "dataset_total = pd.concat((\n",
        "    train, test), axis = 0)\n",
        "print(dataset_total.shape)\n",
        "inputs = dataset_total[len(dataset_total) -\n",
        "                      len(test) - 5:].values\n",
        "print(inputs.shape)\n",
        "inputs = sc.transform(inputs)\n",
        "X_test = []\n",
        "y_test = []\n",
        "for i in range(5,12):\n",
        "    X_test.append(inputs[i-5:i])\n",
        "    y_test.append(inputs[i])\n",
        "X_test = np.array(X_test)\n",
        "y_test = np.array(y_test)\n",
        "y_test = sc.inverse_transform(y_test)\n",
        "X_test = np.reshape(X_test, (X_test.shape[0], X_test.shape[1],X_test.shape[2]))\n",
        "print(X_test.shape)\n",
        "\n",
        "print(X_train.shape, y_train.shape, X_test.shape, y_test.shape)\n",
        "def to2dim(a):\n",
        "  nsamples, nx, ny = a.shape\n",
        "  a = a.reshape((nsamples,nx*ny))\n",
        "  return a"
      ]
    },
    {
      "cell_type": "markdown",
      "metadata": {
        "id": "NGnysun5QfEQ"
      },
      "source": [
        "# ***RNN***"
      ]
    },
    {
      "cell_type": "code",
      "execution_count": 10,
      "metadata": {
        "id": "vpgAAGlFQueO"
      },
      "outputs": [],
      "source": [
        "import tensorflow as tf\n",
        "from tensorflow.keras.models import Sequential\n",
        "from tensorflow.keras.layers import Dense\n",
        "from tensorflow.keras.layers import LSTM\n",
        "from tensorflow.keras.layers import SimpleRNN\n",
        "from tensorflow.keras.layers import Dropout"
      ]
    },
    {
      "cell_type": "code",
      "execution_count": 11,
      "metadata": {
        "colab": {
          "base_uri": "https://localhost:8080/"
        },
        "id": "DiZ7UcfnQvry",
        "outputId": "34f05d88-7596-45a8-9688-5f5552eaf1df"
      },
      "outputs": [
        {
          "output_type": "stream",
          "name": "stdout",
          "text": [
            "Epoch 1/5\n",
            "2/2 [==============================] - 4s 15ms/step - loss: 0.4054\n",
            "Epoch 2/5\n",
            "2/2 [==============================] - 0s 14ms/step - loss: 0.0845\n",
            "Epoch 3/5\n",
            "2/2 [==============================] - 0s 18ms/step - loss: 0.1137\n",
            "Epoch 4/5\n",
            "2/2 [==============================] - 0s 23ms/step - loss: 0.1273\n",
            "Epoch 5/5\n",
            "2/2 [==============================] - 0s 14ms/step - loss: 0.0951\n"
          ]
        }
      ],
      "source": [
        "RNN = Sequential()\n",
        "RNN.add(SimpleRNN(units = 50, return_sequences = True,\n",
        "                        input_shape = (X_train.shape[1], X_train.shape[2])))\n",
        "RNN.add(SimpleRNN(units = 50, return_sequences = False))\n",
        "RNN.add(Dense(units = 5))\n",
        "\n",
        "RNN.compile(optimizer = 'adam', loss = 'mean_squared_error')\n",
        "\n",
        "start_RNN = time.time()\n",
        "RNN.fit(X_train, y_train, epochs = 5, batch_size = 32)\n",
        "end_RNN =  time.time() - start_RNN"
      ]
    },
    {
      "cell_type": "code",
      "source": [
        "X_train_RNN = X_train[-1,-5:]\n",
        "for i in range(7):\n",
        "  a = np.array(X_train_RNN[-5:])\n",
        "  a = np.reshape(a,(1,a.shape[0],a.shape[1]))\n",
        "  predicted_RNN = RNN.predict(a)\n",
        "  X_train_RNN = np.append(X_train_RNN,predicted_RNN,axis=0)\n",
        "predicted_RNN = sc.inverse_transform(X_train_RNN[-7:])[:,0].reshape(-1,1)"
      ],
      "metadata": {
        "colab": {
          "base_uri": "https://localhost:8080/"
        },
        "id": "Sj49_xc3Ngzd",
        "outputId": "61d053d9-8def-408b-a47e-77b272d77702"
      },
      "execution_count": 12,
      "outputs": [
        {
          "output_type": "stream",
          "name": "stdout",
          "text": [
            "1/1 [==============================] - 1s 647ms/step\n",
            "1/1 [==============================] - 0s 31ms/step\n",
            "1/1 [==============================] - 0s 26ms/step\n",
            "1/1 [==============================] - 0s 31ms/step\n",
            "1/1 [==============================] - 0s 72ms/step\n",
            "1/1 [==============================] - 0s 36ms/step\n",
            "1/1 [==============================] - 0s 27ms/step\n"
          ]
        }
      ]
    },
    {
      "cell_type": "code",
      "execution_count": 13,
      "metadata": {
        "colab": {
          "base_uri": "https://localhost:8080/",
          "height": 0
        },
        "id": "GWX1QT3TX_Vb",
        "outputId": "05c75636-93d9-4ef9-e54f-2b6d6eec5d69"
      },
      "outputs": [
        {
          "output_type": "display_data",
          "data": {
            "text/plain": [
              "<Figure size 432x288 with 1 Axes>"
            ],
            "image/png": "[encoded data removed]"
          },
          "metadata": {
            "needs_background": "light"
          }
        }
      ],
      "source": [
        "def plot_predictions(test, predicted, model_name):\n",
        "    plt.plot(test, color=\"red\", label=\"Real Values\")\n",
        "    plt.plot(predicted, color=\"blue\", label=\"Predicted Values\")\n",
        "    plt.title(model_name)\n",
        "    plt.xlabel(\"Date\")\n",
        "    plt.ylabel(\"Stock price\")\n",
        "    plt.legend()\n",
        "    plt.show()\n",
        "plot_predictions(y_test[:,0:1],predicted_RNN,'Recurrent Neural Network')"
      ]
    },
    {
      "cell_type": "markdown",
      "source": [
        "***RNN - Overfitting***"
      ],
      "metadata": {
        "id": "LhM_FjMfhBfZ"
      }
    },
    {
      "cell_type": "code",
      "source": [
        "from keras.callbacks import EarlyStopping\n",
        "earlyStop=EarlyStopping(monitor=\"val_loss\")\n",
        "RNN_DROP = Sequential()\n",
        "RNN_DROP.add(SimpleRNN(units = 50, return_sequences = True,\n",
        "                        input_shape = (X_train.shape[1], X_train.shape[2])))\n",
        "RNN_DROP.add(Dropout(0.2))\n",
        "RNN_DROP.add(SimpleRNN(units = 50, return_sequences = False))\n",
        "RNN_DROP.add(Dropout(0.2))\n",
        "RNN_DROP.add(Dense(units = 5))\n",
        "\n",
        "RNN_DROP.compile(optimizer = 'adam', loss = 'mean_squared_error')\n",
        "\n",
        "start_RNN = time.time()\n",
        "RNN_DROP.fit(X_train, y_train, epochs = 5, batch_size = 32, callbacks=[earlyStop], validation_split=0.2)\n",
        "end_RNN =  time.time() - start_RNN"
      ],
      "metadata": {
        "colab": {
          "base_uri": "https://localhost:8080/"
        },
        "id": "bc-q1xlNhDj2",
        "outputId": "4e9dc998-ee05-479f-9893-2a13fea6c51c"
      },
      "execution_count": 14,
      "outputs": [
        {
          "output_type": "stream",
          "name": "stdout",
          "text": [
            "Epoch 1/5\n",
            "1/1 [==============================] - 4s 4s/step - loss: 0.4805 - val_loss: 0.0424\n",
            "Epoch 2/5\n",
            "1/1 [==============================] - 0s 52ms/step - loss: 0.3451 - val_loss: 0.0713\n"
          ]
        }
      ]
    },
    {
      "cell_type": "code",
      "source": [
        "X_train_RNN_DROP = X_train[-1,-5:]\n",
        "for i in range(7):\n",
        "  a = np.array(X_train_RNN_DROP[-5:])\n",
        "  a = np.reshape(a,(1,a.shape[0],a.shape[1]))\n",
        "  predicted_RNN_DROP = RNN_DROP.predict(a)\n",
        "  X_train_RNN_DROP = np.append(X_train_RNN_DROP,predicted_RNN_DROP,axis=0)\n",
        "predicted_RNN_DROP = sc.inverse_transform(X_train_RNN_DROP[-7:])[:,0].reshape(-1,1)\n",
        "\n",
        "plot_predictions(y_test[:,0:1],predicted_RNN_DROP,'Recurrent Neural Network')"
      ],
      "metadata": {
        "colab": {
          "base_uri": "https://localhost:8080/",
          "height": 0
        },
        "id": "0eU8INkghH4P",
        "outputId": "f440e670-06a2-4c5f-f67d-933b0547ce52"
      },
      "execution_count": 15,
      "outputs": [
        {
          "output_type": "stream",
          "name": "stdout",
          "text": [
            "1/1 [==============================] - 1s 515ms/step\n",
            "1/1 [==============================] - 0s 39ms/step\n",
            "1/1 [==============================] - 0s 42ms/step\n",
            "1/1 [==============================] - 0s 29ms/step\n",
            "1/1 [==============================] - 0s 33ms/step\n",
            "1/1 [==============================] - 0s 40ms/step\n",
            "1/1 [==============================] - 0s 100ms/step\n"
          ]
        },
        {
          "output_type": "display_data",
          "data": {
            "text/plain": [
              "<Figure size 432x288 with 1 Axes>"
            ],
            "image/png": "[encoded data removed]"
          },
          "metadata": {
            "needs_background": "light"
          }
        }
      ]
    },
    {
      "cell_type": "markdown",
      "metadata": {
        "id": "SNtaeACgRQM7"
      },
      "source": [
        "# ***LSTM***"
      ]
    },
    {
      "cell_type": "code",
      "execution_count": 16,
      "metadata": {
        "id": "qrCVPPAuRTEx"
      },
      "outputs": [],
      "source": [
        "# Build the LSTM model\n",
        "model = Sequential()\n",
        "model.add(LSTM(128, return_sequences=True, input_shape= (X_train.shape[1],X_train.shape[2])))\n",
        "model.add(LSTM(64, return_sequences=False))\n",
        "model.add(Dense(25))\n",
        "model.add(Dense(5))"
      ]
    },
    {
      "cell_type": "code",
      "execution_count": 17,
      "metadata": {
        "colab": {
          "base_uri": "https://localhost:8080/"
        },
        "id": "-3HYyrBzXCQP",
        "outputId": "9c923ee8-c10d-4071-9db2-3717f0bb5561"
      },
      "outputs": [
        {
          "output_type": "stream",
          "name": "stdout",
          "text": [
            "Epoch 1/5\n",
            "2/2 [==============================] - 5s 19ms/step - loss: 0.2550\n",
            "Epoch 2/5\n",
            "2/2 [==============================] - 0s 14ms/step - loss: 0.1581\n",
            "Epoch 3/5\n",
            "2/2 [==============================] - 0s 14ms/step - loss: 0.0851\n",
            "Epoch 4/5\n",
            "2/2 [==============================] - 0s 14ms/step - loss: 0.0530\n",
            "Epoch 5/5\n",
            "2/2 [==============================] - 0s 13ms/step - loss: 0.0618\n"
          ]
        }
      ],
      "source": [
        "# Compile the model\n",
        "model.compile(optimizer='adam', loss='mean_squared_error')\n",
        "\n",
        "# Train the model\n",
        "start_LSTM = time.time()\n",
        "model.fit(X_train, y_train, batch_size=32, epochs=5)\n",
        "end_LSTM =  time.time() - start_LSTM\n"
      ]
    },
    {
      "cell_type": "code",
      "execution_count": 18,
      "metadata": {
        "colab": {
          "base_uri": "https://localhost:8080/"
        },
        "id": "zS9KX5CtgLsz",
        "outputId": "a9e50385-a9c3-4c68-d6c1-9285c1a50201"
      },
      "outputs": [
        {
          "output_type": "stream",
          "name": "stdout",
          "text": [
            "1/1 [==============================] - 1s 801ms/step\n",
            "1/1 [==============================] - 0s 22ms/step\n",
            "1/1 [==============================] - 0s 16ms/step\n",
            "1/1 [==============================] - 0s 18ms/step\n",
            "1/1 [==============================] - 0s 18ms/step\n",
            "1/1 [==============================] - 0s 18ms/step\n",
            "1/1 [==============================] - 0s 19ms/step\n"
          ]
        }
      ],
      "source": [
        "X_train_LSTM = X_train[-1,-5:]\n",
        "for i in range(7):\n",
        "  a = np.array(X_train_LSTM[-5:])\n",
        "  a = np.reshape(a,(1,a.shape[0],a.shape[1]))\n",
        "  predicted_LSTM = model.predict(a)\n",
        "  X_train_LSTM = np.append(X_train_LSTM,predicted_LSTM,axis=0)\n",
        "predicted_LSTM = sc.inverse_transform(X_train_LSTM[-7:])[:,0].reshape(-1,1)"
      ]
    },
    {
      "cell_type": "code",
      "execution_count": 19,
      "metadata": {
        "colab": {
          "base_uri": "https://localhost:8080/",
          "height": 0
        },
        "id": "DIZ9gTSOgPuF",
        "outputId": "efeb2a32-6993-4b26-cdab-8dc96bd6c76b"
      },
      "outputs": [
        {
          "output_type": "display_data",
          "data": {
            "text/plain": [
              "<Figure size 432x288 with 1 Axes>"
            ],
            "image/png": "[encoded data removed]"
          },
          "metadata": {
            "needs_background": "light"
          }
        }
      ],
      "source": [
        "plot_predictions(y_test[:,0:1], predicted_LSTM, 'Long Short Term Memory')"
      ]
    },
    {
      "cell_type": "markdown",
      "source": [
        "***LTSM - Overfitting***"
      ],
      "metadata": {
        "id": "gyWxCTPJhpsr"
      }
    },
    {
      "cell_type": "code",
      "source": [
        "model_DROP = Sequential()\n",
        "model_DROP.add(LSTM(128, return_sequences=True, input_shape= (X_train.shape[1],X_train.shape[2])))\n",
        "model_DROP.add(Dropout(0.2))\n",
        "model_DROP.add(LSTM(64, return_sequences=False))\n",
        "model_DROP.add(Dropout(0.2))\n",
        "model_DROP.add(Dense(25))\n",
        "model_DROP.add(Dropout(0.2))\n",
        "model_DROP.add(Dense(5))\n",
        "model_DROP.compile(optimizer='adam', loss='mean_squared_error')\n",
        "\n",
        "# Train the model\n",
        "start_LSTM = time.time()\n",
        "model_DROP.fit(X_train, y_train, batch_size=32, epochs=5, callbacks=[earlyStop], validation_split=0.2)\n",
        "end_LSTM =  time.time() - start_LSTM\n"
      ],
      "metadata": {
        "colab": {
          "base_uri": "https://localhost:8080/"
        },
        "id": "uopkVg11htZB",
        "outputId": "cee5f8b4-5259-480f-d0c2-a6b3dd732696"
      },
      "execution_count": 20,
      "outputs": [
        {
          "output_type": "stream",
          "name": "stdout",
          "text": [
            "Epoch 1/5\n",
            "1/1 [==============================] - 4s 4s/step - loss: 0.3133 - val_loss: 0.0385\n",
            "Epoch 2/5\n",
            "1/1 [==============================] - 0s 44ms/step - loss: 0.2695 - val_loss: 0.0308\n"
          ]
        }
      ]
    },
    {
      "cell_type": "code",
      "source": [
        "X_train_LSTM_DROP = X_train[-1,-5:]\n",
        "for i in range(7):\n",
        "  a = np.array(X_train_LSTM_DROP[-5:])\n",
        "  a = np.reshape(a,(1,a.shape[0],a.shape[1]))\n",
        "  predicted_LSTM_DROP = model_DROP.predict(a)\n",
        "  X_train_LSTM_DROP = np.append(X_train_LSTM_DROP,predicted_LSTM_DROP,axis=0)\n",
        "predicted_LSTM_DROP = sc.inverse_transform(X_train_LSTM_DROP[-7:])[:,0].reshape(-1,1)\n",
        "\n",
        "plot_predictions(y_test[:,0:1], predicted_LSTM_DROP, 'Long Short Term Memory')"
      ],
      "metadata": {
        "colab": {
          "base_uri": "https://localhost:8080/",
          "height": 0
        },
        "id": "VdjethbnhxJC",
        "outputId": "cb45b126-3e4b-4fcf-c1ab-e760e56714c7"
      },
      "execution_count": 21,
      "outputs": [
        {
          "output_type": "stream",
          "name": "stdout",
          "text": [
            "1/1 [==============================] - 1s 793ms/step\n",
            "1/1 [==============================] - 0s 17ms/step\n",
            "1/1 [==============================] - 0s 23ms/step\n",
            "1/1 [==============================] - 0s 25ms/step\n",
            "1/1 [==============================] - 0s 21ms/step\n",
            "1/1 [==============================] - 0s 21ms/step\n",
            "1/1 [==============================] - 0s 18ms/step\n"
          ]
        },
        {
          "output_type": "display_data",
          "data": {
            "text/plain": [
              "<Figure size 432x288 with 1 Axes>"
            ],
            "image/png": "[encoded data removed]"
          },
          "metadata": {
            "needs_background": "light"
          }
        }
      ]
    },
    {
      "cell_type": "markdown",
      "metadata": {
        "id": "MfVNxjS5RFeY"
      },
      "source": [
        "# ***MPL***"
      ]
    },
    {
      "cell_type": "code",
      "source": [
        "MLP = Sequential()\n",
        "MLP.add(Dense(80, activation='relu'))\n",
        "MLP.add(Dense(40, activation='relu'))\n",
        "MLP.add(Dense(20, activation='relu'))\n",
        "MLP.add(Dense(units = 5))\n",
        "MLP.compile(loss='mean_squared_error', optimizer='adam')"
      ],
      "metadata": {
        "id": "utyaB9LOKKLt"
      },
      "execution_count": 22,
      "outputs": []
    },
    {
      "cell_type": "code",
      "source": [
        "start_MLP = time.time()\n",
        "print(X_train.shape)\n",
        "print(y_train.shape)\n",
        "X_train_2dim = to2dim(X_train)\n",
        "MLP.fit(X_train_2dim, y_train, batch_size=32, epochs=5)\n",
        "end_MLP =  time.time() - start_MLP"
      ],
      "metadata": {
        "colab": {
          "base_uri": "https://localhost:8080/"
        },
        "id": "XlYEonAdh05P",
        "outputId": "06b10fd5-e519-477e-c1ad-85e7680b2c01"
      },
      "execution_count": 23,
      "outputs": [
        {
          "output_type": "stream",
          "name": "stdout",
          "text": [
            "(40, 5, 5)\n",
            "(40, 5)\n",
            "Epoch 1/5\n",
            "2/2 [==============================] - 0s 16ms/step - loss: 0.2115\n",
            "Epoch 2/5\n",
            "2/2 [==============================] - 0s 8ms/step - loss: 0.1786\n",
            "Epoch 3/5\n",
            "2/2 [==============================] - 0s 9ms/step - loss: 0.1551\n",
            "Epoch 4/5\n",
            "2/2 [==============================] - 0s 8ms/step - loss: 0.1351\n",
            "Epoch 5/5\n",
            "2/2 [==============================] - 0s 7ms/step - loss: 0.1201\n"
          ]
        }
      ]
    },
    {
      "cell_type": "code",
      "source": [
        "X_train_MLP = X_train_2dim[-1]\n",
        "for i in range(7):\n",
        "  a = np.array(X_train_MLP[-25:])\n",
        "  a = np.reshape(a,(1,25))\n",
        "  predicted_MLP = MLP.predict(a)\n",
        "  X_train_MLP = np.append(X_train_MLP,predicted_MLP[0],axis=0)\n",
        "predicted_MLP = sc.inverse_transform(np.array(X_train_MLP[-35:]).reshape(7,5))[:,0].reshape(-1,1)\n",
        "print(predicted_MLP)\n"
      ],
      "metadata": {
        "colab": {
          "base_uri": "https://localhost:8080/"
        },
        "id": "sVpKpXMSPRNh",
        "outputId": "4e77997f-0831-4686-a19a-628a99744e56"
      },
      "execution_count": 24,
      "outputs": [
        {
          "output_type": "stream",
          "name": "stdout",
          "text": [
            "1/1 [==============================] - 0s 57ms/step\n",
            "1/1 [==============================] - 0s 17ms/step\n",
            "1/1 [==============================] - 0s 21ms/step\n",
            "1/1 [==============================] - 0s 16ms/step\n",
            "1/1 [==============================] - 0s 17ms/step\n",
            "1/1 [==============================] - 0s 20ms/step\n",
            "1/1 [==============================] - 0s 17ms/step\n",
            "[[84.14994418]\n",
            " [81.99539631]\n",
            " [80.95490526]\n",
            " [80.71594043]\n",
            " [80.64415508]\n",
            " [80.07628933]\n",
            " [79.9366518 ]]\n"
          ]
        }
      ]
    },
    {
      "cell_type": "code",
      "source": [
        "plot_predictions(y_test[:,0:1], predicted_MLP, 'Multilayer Perceptron')"
      ],
      "metadata": {
        "colab": {
          "base_uri": "https://localhost:8080/",
          "height": 0
        },
        "id": "_VecrUvNid_9",
        "outputId": "a2f2b676-88d4-4bea-de2c-d7876079dfd7"
      },
      "execution_count": 25,
      "outputs": [
        {
          "output_type": "display_data",
          "data": {
            "text/plain": [
              "<Figure size 432x288 with 1 Axes>"
            ],
            "image/png": "[encoded data removed]"
          },
          "metadata": {
            "needs_background": "light"
          }
        }
      ]
    },
    {
      "cell_type": "markdown",
      "source": [
        "***MLP - Overfitting***"
      ],
      "metadata": {
        "id": "1sYgjD4WiFve"
      }
    },
    {
      "cell_type": "code",
      "source": [
        "MLP_DROP = Sequential()\n",
        "MLP_DROP.add(Dense(80, activation='relu'))\n",
        "MLP_DROP.add(Dropout(0.2))\n",
        "MLP_DROP.add(Dense(40, activation='relu'))\n",
        "MLP_DROP.add(Dropout(0.2))\n",
        "MLP_DROP.add(Dense(20, activation='relu'))\n",
        "MLP_DROP.add(Dropout(0.2))\n",
        "MLP_DROP.add(Dense(units = 5))\n",
        "MLP_DROP.compile(loss='mean_squared_error', optimizer='adam')\n",
        "\n",
        "MLP_DROP.fit(X_train_2dim, y_train, batch_size=32, epochs=5, callbacks=[earlyStop], validation_split=0.2)"
      ],
      "metadata": {
        "colab": {
          "base_uri": "https://localhost:8080/"
        },
        "id": "p32KhE30iH6p",
        "outputId": "5f90640f-4aa6-444c-8b0c-13b87ec6f49a"
      },
      "execution_count": 26,
      "outputs": [
        {
          "output_type": "stream",
          "name": "stdout",
          "text": [
            "Epoch 1/5\n",
            "1/1 [==============================] - 1s 638ms/step - loss: 0.3590 - val_loss: 0.0465\n",
            "Epoch 2/5\n",
            "1/1 [==============================] - 0s 36ms/step - loss: 0.3253 - val_loss: 0.0403\n"
          ]
        },
        {
          "output_type": "execute_result",
          "data": {
            "text/plain": [
              "<keras.callbacks.History at 0x7f1e912f6f40>"
            ]
          },
          "metadata": {},
          "execution_count": 26
        }
      ]
    },
    {
      "cell_type": "code",
      "source": [
        "X_train_MLP_DROP = X_train_2dim[-1]\n",
        "for i in range(7):\n",
        "  a = np.array(X_train_MLP_DROP[-25:])\n",
        "  a = np.reshape(a,(1,25))\n",
        "  predicted_MLP_DROP = MLP_DROP.predict(a)\n",
        "  X_train_MLP_DROP = np.append(X_train_MLP_DROP,predicted_MLP_DROP[0],axis=0)\n",
        "predicted_MLP_DROP = sc.inverse_transform(np.array(X_train_MLP_DROP[-35:]).reshape(7,5))[:,0].reshape(-1,1)\n",
        "\n",
        "plot_predictions(y_test[:,0:1], predicted_MLP_DROP, 'Multilayer Perceptron')"
      ],
      "metadata": {
        "colab": {
          "base_uri": "https://localhost:8080/",
          "height": 0
        },
        "id": "CxQzboU7iOyf",
        "outputId": "65a6cd5c-5413-4a8c-cff2-f8380e82b498"
      },
      "execution_count": 27,
      "outputs": [
        {
          "output_type": "stream",
          "name": "stdout",
          "text": [
            "1/1 [==============================] - 0s 59ms/step\n",
            "1/1 [==============================] - 0s 17ms/step\n",
            "1/1 [==============================] - 0s 18ms/step\n",
            "1/1 [==============================] - 0s 20ms/step\n",
            "1/1 [==============================] - 0s 17ms/step\n",
            "1/1 [==============================] - 0s 17ms/step\n",
            "1/1 [==============================] - 0s 17ms/step\n"
          ]
        },
        {
          "output_type": "display_data",
          "data": {
            "text/plain": [
              "<Figure size 432x288 with 1 Axes>"
            ],
            "image/png": "[encoded data removed]"
          },
          "metadata": {
            "needs_background": "light"
          }
        }
      ]
    },
    {
      "cell_type": "markdown",
      "metadata": {
        "id": "kePwuhQi1aIM"
      },
      "source": [
        "# ***SVR***"
      ]
    },
    {
      "cell_type": "code",
      "execution_count": 28,
      "metadata": {
        "id": "4_RLukO7ORwH"
      },
      "outputs": [],
      "source": [
        "from sklearn.svm import SVR\n",
        "from sklearn.multioutput import MultiOutputRegressor\n",
        "\n",
        "svr_rbf = MultiOutputRegressor(SVR(kernel= 'rbf', C= 50, gamma= 0.5))\n",
        "start_SVR = time.time()\n",
        "svr_rbf.fit(X_train_2dim, y_train)\n",
        "end_SVR =  time.time() - start_SVR"
      ]
    },
    {
      "cell_type": "code",
      "execution_count": 29,
      "metadata": {
        "id": "brY6y4FbOT1H"
      },
      "outputs": [],
      "source": [
        "X_train_SVR = X_train_2dim[-1]\n",
        "for i in range(7):\n",
        "  a = np.array(X_train_SVR[-25:])\n",
        "  a = np.reshape(a,(1,25))\n",
        "  predicted_SVR = svr_rbf.predict(a)\n",
        "  X_train_SVR = np.append(X_train_SVR,predicted_SVR[0],axis=0)\n",
        "predicted_SVR = sc.inverse_transform(np.array(X_train_SVR[-35:]).reshape(7,5))[:,0].reshape(-1,1)"
      ]
    },
    {
      "cell_type": "code",
      "execution_count": 30,
      "metadata": {
        "colab": {
          "base_uri": "https://localhost:8080/",
          "height": 0
        },
        "id": "WGLwpGN1T-xb",
        "outputId": "d3840705-cfb9-48db-fa40-3d9f3a28c847"
      },
      "outputs": [
        {
          "output_type": "display_data",
          "data": {
            "text/plain": [
              "<Figure size 432x288 with 1 Axes>"
            ],
            "image/png": "[encoded data removed]"
          },
          "metadata": {
            "needs_background": "light"
          }
        }
      ],
      "source": [
        "plot_predictions(y_test[:,0:1], predicted_SVR, 'Support Vector Regression')"
      ]
    },
    {
      "cell_type": "markdown",
      "metadata": {
        "id": "zMaJte_kRq7m"
      },
      "source": [
        "# ***Random Forest***"
      ]
    },
    {
      "cell_type": "code",
      "execution_count": 31,
      "metadata": {
        "id": "_QXHuIWrRzrB"
      },
      "outputs": [],
      "source": [
        "from sklearn.ensemble import RandomForestRegressor\n",
        "\n",
        "rf = RandomForestRegressor(n_estimators = 100, random_state = 0)\n",
        "start_RF = time.time()\n",
        "rf.fit(X_train_2dim, y_train)\n",
        "end_RF =  time.time() - start_RF"
      ]
    },
    {
      "cell_type": "code",
      "execution_count": 32,
      "metadata": {
        "id": "OF4n_xLDR0QT"
      },
      "outputs": [],
      "source": [
        "X_train_RF = X_train_2dim[-1]\n",
        "for i in range(7):\n",
        "  a = np.array(X_train_RF[-25:])\n",
        "  a = np.reshape(a,(1,25))\n",
        "  predicted_RF = rf.predict(a)\n",
        "  X_train_RF = np.append(X_train_RF,predicted_RF[0],axis=0)\n",
        "predicted_RF = sc.inverse_transform(np.array(X_train_RF[-35:]).reshape(7,5))[:,0].reshape(-1,1)"
      ]
    },
    {
      "cell_type": "code",
      "execution_count": 33,
      "metadata": {
        "colab": {
          "base_uri": "https://localhost:8080/",
          "height": 0
        },
        "id": "VGzKoBx5XuRt",
        "outputId": "c91c7e94-a62f-4baf-f3a4-2f879761eda1"
      },
      "outputs": [
        {
          "output_type": "display_data",
          "data": {
            "text/plain": [
              "<Figure size 432x288 with 1 Axes>"
            ],
            "image/png": "[encoded data removed]"
          },
          "metadata": {
            "needs_background": "light"
          }
        }
      ],
      "source": [
        "plot_predictions(y_test[:,0:1], predicted_RF, 'Random Forest')"
      ]
    },
    {
      "cell_type": "markdown",
      "metadata": {
        "id": "wz9zS0ILX2WL"
      },
      "source": [
        "# ***KNN***"
      ]
    },
    {
      "cell_type": "code",
      "execution_count": 34,
      "metadata": {
        "id": "55agYhquX65X"
      },
      "outputs": [],
      "source": [
        "from sklearn import neighbors\n",
        "\n",
        "neighbor = neighbors.KNeighborsRegressor(n_neighbors = 1)\n",
        "start_KNN = time.time()\n",
        "neighbor.fit(X_train_2dim, y_train)\n",
        "end_KNN =  time.time() - start_KNN"
      ]
    },
    {
      "cell_type": "code",
      "execution_count": 35,
      "metadata": {
        "id": "XE68YDhwX7UV"
      },
      "outputs": [],
      "source": [
        "X_train_KNN = X_train_2dim[-1]\n",
        "for i in range(7):\n",
        "  a = np.array(X_train_KNN[-25:])\n",
        "  a = np.reshape(a,(1,25))\n",
        "  predicted_KNN = neighbor.predict(a)\n",
        "  X_train_KNN = np.append(X_train_KNN,predicted_KNN[0],axis=0)\n",
        "predicted_KNN = sc.inverse_transform(np.array(X_train_KNN[-35:]).reshape(7,5))[:,0].reshape(-1,1)"
      ]
    },
    {
      "cell_type": "code",
      "execution_count": 36,
      "metadata": {
        "colab": {
          "base_uri": "https://localhost:8080/",
          "height": 0
        },
        "id": "ROW34y5hYHmE",
        "outputId": "11a38cea-7fa9-464c-bf5b-9e567fb174c9"
      },
      "outputs": [
        {
          "output_type": "display_data",
          "data": {
            "text/plain": [
              "<Figure size 432x288 with 1 Axes>"
            ],
            "image/png": "[encoded data removed]"
          },
          "metadata": {
            "needs_background": "light"
          }
        }
      ],
      "source": [
        "plot_predictions(y_test[:,0:1], predicted_KNN, 'K-Nearest Neighbor')"
      ]
    },
    {
      "cell_type": "markdown",
      "source": [
        "# ***Decision Tree***"
      ],
      "metadata": {
        "id": "itV3tUqVMJaQ"
      }
    },
    {
      "cell_type": "code",
      "source": [
        "from sklearn.tree import DecisionTreeRegressor\n",
        "\n",
        "start_DT = time.time()\n",
        "DT = DecisionTreeRegressor().fit(X_train_2dim, y_train)\n",
        "end_DT =  time.time() - start_DT"
      ],
      "metadata": {
        "id": "iy0eJOIuMJDo"
      },
      "execution_count": 37,
      "outputs": []
    },
    {
      "cell_type": "code",
      "source": [
        "X_train_DT = X_train_2dim[-1]\n",
        "for i in range(7):\n",
        "  a = np.array(X_train_DT[-25:])\n",
        "  a = np.reshape(a,(1,25))\n",
        "  predicted_DT = DT.predict(a)\n",
        "  X_train_DT = np.append(X_train_DT,predicted_DT[0],axis=0)\n",
        "predicted_DT = sc.inverse_transform(np.array(X_train_DT[-35:]).reshape(7,5))[:,0].reshape(-1,1)\n",
        "print(predicted_DT)"
      ],
      "metadata": {
        "colab": {
          "base_uri": "https://localhost:8080/"
        },
        "id": "Sue-GCGKPBYx",
        "outputId": "05c6ce88-8c5c-4d4f-ad26-0ff85687ba32"
      },
      "execution_count": 38,
      "outputs": [
        {
          "output_type": "stream",
          "name": "stdout",
          "text": [
            "[[76.0679994]\n",
            " [82.6559996]\n",
            " [76.0679994]\n",
            " [82.6559996]\n",
            " [76.0679994]\n",
            " [82.6559996]\n",
            " [76.0679994]]\n"
          ]
        }
      ]
    },
    {
      "cell_type": "code",
      "source": [
        "plot_predictions(y_test[:,0:1], predicted_DT, 'Decision Tree')"
      ],
      "metadata": {
        "colab": {
          "base_uri": "https://localhost:8080/",
          "height": 0
        },
        "id": "a7a1a7Z3bCri",
        "outputId": "dbf25f39-6047-41c5-ba25-d8445d2e1f89"
      },
      "execution_count": 39,
      "outputs": [
        {
          "output_type": "display_data",
          "data": {
            "text/plain": [
              "<Figure size 432x288 with 1 Axes>"
            ],
            "image/png": "[encoded data removed]"
          },
          "metadata": {
            "needs_background": "light"
          }
        }
      ]
    },
    {
      "cell_type": "markdown",
      "source": [
        "# ***Linear Regression***"
      ],
      "metadata": {
        "id": "uPjEgdOBMsYo"
      }
    },
    {
      "cell_type": "code",
      "source": [
        "from sklearn.linear_model import LinearRegression\n",
        "\n",
        "start_LR = time.time()\n",
        "LR = LinearRegression().fit(X_train_2dim, y_train)\n",
        "end_LR =  time.time() - start_LR"
      ],
      "metadata": {
        "id": "WMKqS4NrMwfY"
      },
      "execution_count": 40,
      "outputs": []
    },
    {
      "cell_type": "code",
      "source": [
        "X_train_LR = X_train_2dim[-1]\n",
        "for i in range(7):\n",
        "  a = np.array(X_train_LR[-25:])\n",
        "  a = np.reshape(a,(1,25))\n",
        "  predicted_LR = LR.predict(a)\n",
        "  X_train_LR = np.append(X_train_LR,predicted_LR[0],axis=0)\n",
        "predicted_LR = sc.inverse_transform(np.array(X_train_LR[-35:]).reshape(7,5))[:,0].reshape(-1,1)"
      ],
      "metadata": {
        "id": "2anbfO-ZPX0c"
      },
      "execution_count": 41,
      "outputs": []
    },
    {
      "cell_type": "code",
      "source": [
        "plot_predictions(y_test[:,0:1], predicted_LR, 'Linear Regression')"
      ],
      "metadata": {
        "colab": {
          "base_uri": "https://localhost:8080/",
          "height": 0
        },
        "id": "uiXmIRKRbFJf",
        "outputId": "b3aa000e-6534-4459-eb16-d8c5fdb88a59"
      },
      "execution_count": 42,
      "outputs": [
        {
          "output_type": "display_data",
          "data": {
            "text/plain": [
              "<Figure size 432x288 with 1 Axes>"
            ],
            "image/png": "[encoded data removed]"
          },
          "metadata": {
            "needs_background": "light"
          }
        }
      ]
    },
    {
      "cell_type": "markdown",
      "source": [
        "# ***LSTM + GRU***"
      ],
      "metadata": {
        "id": "_OiD4lqx3DHh"
      }
    },
    {
      "cell_type": "code",
      "source": [
        "from tensorflow.keras.layers import GRU\n",
        "\n",
        "LSTM_GRU=Sequential()\n",
        "LSTM_GRU.add(LSTM(32,return_sequences=True,input_shape=(X_train.shape[1],X_train.shape[2])))\n",
        "LSTM_GRU.add(GRU(32))\n",
        "LSTM_GRU.add(Dense(5))\n",
        "LSTM_GRU.compile(loss='mean_squared_error',optimizer='adam')"
      ],
      "metadata": {
        "id": "2wUPdvAf3JCR"
      },
      "execution_count": 43,
      "outputs": []
    },
    {
      "cell_type": "code",
      "source": [
        "start_LSTM_GRU = time.time()\n",
        "LSTM_GRU.fit(X_train,y_train, epochs=5,batch_size=32)\n",
        "end_LSTM_GRU =  time.time() - start_LSTM_GRU"
      ],
      "metadata": {
        "colab": {
          "base_uri": "https://localhost:8080/"
        },
        "id": "h-QY98XF3jZR",
        "outputId": "9b904ab0-7504-4a26-b01b-591f320b925e"
      },
      "execution_count": 44,
      "outputs": [
        {
          "output_type": "stream",
          "name": "stdout",
          "text": [
            "Epoch 1/5\n",
            "2/2 [==============================] - 4s 12ms/step - loss: 0.2912\n",
            "Epoch 2/5\n",
            "2/2 [==============================] - 0s 12ms/step - loss: 0.2546\n",
            "Epoch 3/5\n",
            "2/2 [==============================] - 0s 10ms/step - loss: 0.2201\n",
            "Epoch 4/5\n",
            "2/2 [==============================] - 0s 11ms/step - loss: 0.1914\n",
            "Epoch 5/5\n",
            "2/2 [==============================] - 0s 12ms/step - loss: 0.1637\n"
          ]
        }
      ]
    },
    {
      "cell_type": "code",
      "source": [
        "X_train_LSTM_GRU = X_train[-1,-5:]\n",
        "for i in range(7):\n",
        "  a = np.array(X_train_LSTM_GRU[-5:])\n",
        "  a = np.reshape(a,(1,a.shape[0],a.shape[1]))\n",
        "  predicted_LSTM_GRU = LSTM_GRU.predict(a)\n",
        "  X_train_LSTM_GRU = np.append(X_train_LSTM_GRU,predicted_LSTM_GRU,axis=0)\n",
        "predicted_LSTM_GRU = sc.inverse_transform(X_train_LSTM_GRU[-7:])[:,0].reshape(-1,1)"
      ],
      "metadata": {
        "colab": {
          "base_uri": "https://localhost:8080/"
        },
        "id": "Zbgwjj4J39x7",
        "outputId": "bf63d24f-ae44-406f-811c-d44b31a94e2c"
      },
      "execution_count": 45,
      "outputs": [
        {
          "output_type": "stream",
          "name": "stdout",
          "text": [
            "1/1 [==============================] - 1s 786ms/step\n",
            "1/1 [==============================] - 0s 27ms/step\n",
            "1/1 [==============================] - 0s 17ms/step\n",
            "1/1 [==============================] - 0s 18ms/step\n",
            "1/1 [==============================] - 0s 18ms/step\n",
            "1/1 [==============================] - 0s 19ms/step\n",
            "1/1 [==============================] - 0s 18ms/step\n"
          ]
        }
      ]
    },
    {
      "cell_type": "code",
      "source": [
        "plot_predictions(y_test[:,0:1], predicted_LSTM_GRU, 'LSTM + GRU')"
      ],
      "metadata": {
        "colab": {
          "base_uri": "https://localhost:8080/",
          "height": 0
        },
        "id": "FciM9-WO4C81",
        "outputId": "22ce4873-44a9-4ba8-f4b4-e5d31e011aa6"
      },
      "execution_count": 46,
      "outputs": [
        {
          "output_type": "display_data",
          "data": {
            "text/plain": [
              "<Figure size 432x288 with 1 Axes>"
            ],
            "image/png": "[encoded data removed]"
          },
          "metadata": {
            "needs_background": "light"
          }
        }
      ]
    },
    {
      "cell_type": "markdown",
      "source": [
        "***LSTM + GRU - Overfitting***"
      ],
      "metadata": {
        "id": "vAjnS32TiiOq"
      }
    },
    {
      "cell_type": "code",
      "source": [
        "LSTM_GRU_DROP=Sequential()\n",
        "LSTM_GRU_DROP.add(LSTM(32,return_sequences=True,input_shape=(X_train.shape[1],X_train.shape[2])))\n",
        "LSTM_GRU_DROP.add(Dropout(0.2))\n",
        "LSTM_GRU_DROP.add(GRU(32))\n",
        "LSTM_GRU_DROP.add(Dropout(0.2))\n",
        "LSTM_GRU_DROP.add(Dense(5))\n",
        "LSTM_GRU_DROP.compile(loss='mean_squared_error',optimizer='adam')\n",
        "\n",
        "LSTM_GRU_DROP.fit(X_train,y_train, epochs=5,batch_size=32, callbacks=[earlyStop], validation_split=0.2)"
      ],
      "metadata": {
        "colab": {
          "base_uri": "https://localhost:8080/"
        },
        "id": "_cwpM7ayilE7",
        "outputId": "7bb87d39-c9da-49a0-86af-3438a7eb561a"
      },
      "execution_count": 47,
      "outputs": [
        {
          "output_type": "stream",
          "name": "stdout",
          "text": [
            "Epoch 1/5\n",
            "1/1 [==============================] - 4s 4s/step - loss: 0.2746 - val_loss: 0.0344\n",
            "Epoch 2/5\n",
            "1/1 [==============================] - 0s 36ms/step - loss: 0.2516 - val_loss: 0.0302\n"
          ]
        },
        {
          "output_type": "execute_result",
          "data": {
            "text/plain": [
              "<keras.callbacks.History at 0x7f1e8bbc9760>"
            ]
          },
          "metadata": {},
          "execution_count": 47
        }
      ]
    },
    {
      "cell_type": "code",
      "source": [
        "X_train_LSTM_GRU_DROP = X_train[-1,-5:]\n",
        "for i in range(7):\n",
        "  a = np.array(X_train_LSTM_GRU_DROP[-5:])\n",
        "  a = np.reshape(a,(1,a.shape[0],a.shape[1]))\n",
        "  predicted_LSTM_GRU_DROP = LSTM_GRU_DROP.predict(a)\n",
        "  X_train_LSTM_GRU_DROP = np.append(X_train_LSTM_GRU_DROP,predicted_LSTM_GRU_DROP,axis=0)\n",
        "predicted_LSTM_GRU_DROP = sc.inverse_transform(X_train_LSTM_GRU_DROP[-7:])[:,0].reshape(-1,1)\n",
        "\n",
        "plot_predictions(y_test[:,0:1], predicted_LSTM_GRU_DROP, 'LSTM + GRU')"
      ],
      "metadata": {
        "colab": {
          "base_uri": "https://localhost:8080/",
          "height": 0
        },
        "id": "Oin4LHv6ioJ8",
        "outputId": "dab4402f-9f5a-4a01-bc9e-652c3a599982"
      },
      "execution_count": 48,
      "outputs": [
        {
          "output_type": "stream",
          "name": "stdout",
          "text": [
            "1/1 [==============================] - 1s 806ms/step\n",
            "1/1 [==============================] - 0s 18ms/step\n",
            "1/1 [==============================] - 0s 19ms/step\n",
            "1/1 [==============================] - 0s 19ms/step\n",
            "1/1 [==============================] - 0s 26ms/step\n",
            "1/1 [==============================] - 0s 17ms/step\n",
            "1/1 [==============================] - 0s 18ms/step\n"
          ]
        },
        {
          "output_type": "display_data",
          "data": {
            "text/plain": [
              "<Figure size 432x288 with 1 Axes>"
            ],
            "image/png": "[encoded data removed]"
          },
          "metadata": {
            "needs_background": "light"
          }
        }
      ]
    },
    {
      "cell_type": "markdown",
      "source": [
        "# ***MSE, MAE & R2 SCORE***"
      ],
      "metadata": {
        "id": "-_I-EYivZQsi"
      }
    },
    {
      "cell_type": "code",
      "source": [
        "from sklearn.metrics import mean_squared_error, mean_absolute_error, r2_score \n",
        "\n",
        "\n",
        "print('----------RNN----------')\n",
        "print(\"MSE: \", mean_squared_error(y_test[:,0:1],predicted_RNN))\n",
        "print(\"MAE: \", mean_absolute_error(y_test[:,0:1],predicted_RNN))\n",
        "print(\"R2 score:\", r2_score(y_test[:,0:1], predicted_RNN))\n",
        "\n",
        "print('----------LSTM----------')\n",
        "print(\"MSE: \", mean_squared_error(y_test[:,0:1],predicted_LSTM))\n",
        "print(\"MAE: \", mean_absolute_error(y_test[:,0:1],predicted_LSTM))\n",
        "print(\"R2 score:\", r2_score(y_test[:,0:1], predicted_LSTM))\n",
        "\n",
        "print('----------MLP----------')\n",
        "print(\"MSE: \", mean_squared_error(y_test[:,0:1],predicted_MLP))\n",
        "print(\"MAE: \", mean_absolute_error(y_test[:,0:1],predicted_MLP))\n",
        "print(\"R2 score:\", r2_score(y_test[:,0:1], predicted_MLP))\n",
        "\n",
        "print('----------SVR----------')\n",
        "print(\"MSE: \", mean_squared_error(y_test[:,0:1],predicted_SVR))\n",
        "print(\"MAE: \", mean_absolute_error(y_test[:,0:1],predicted_SVR))\n",
        "print(\"R2 score:\", r2_score(y_test[:,0:1], predicted_SVR))\n",
        "\n",
        "print('----------RANDOM FOREST----------')\n",
        "print(\"MSE: \", mean_squared_error(y_test[:,0:1],predicted_RF))\n",
        "print(\"MAE: \", mean_absolute_error(y_test[:,0:1],predicted_RF))\n",
        "print(\"R2 score:\", r2_score(y_test[:,0:1], predicted_RF))\n",
        "\n",
        "print('----------KNN----------')\n",
        "print(\"MSE: \", mean_squared_error(y_test[:,0:1],predicted_KNN))\n",
        "print(\"MAE: \", mean_absolute_error(y_test[:,0:1],predicted_KNN))\n",
        "print(\"R2 score:\", r2_score(y_test[:,0:1], predicted_KNN))\n",
        "\n",
        "print('----------DECISION TREE----------')\n",
        "print(\"MSE: \", mean_squared_error(y_test[:,0:1],predicted_DT))\n",
        "print(\"MAE: \", mean_absolute_error(y_test[:,0:1],predicted_DT))\n",
        "print(\"R2 score:\", r2_score(y_test[:,0:1], predicted_DT))\n",
        "\n",
        "print('----------LINEAR REGRESSION----------')\n",
        "print(\"MSE: \", mean_squared_error(y_test[:,0:1],predicted_LR))\n",
        "print(\"MAE: \", mean_absolute_error(y_test[:,0:1],predicted_LR))\n",
        "print(\"R2 score:\", r2_score(y_test[:,0:1], predicted_LR))\n",
        "\n",
        "print('----------LSTM + GRU----------')\n",
        "print(\"MSE: \", mean_squared_error(y_test[:,0:1],predicted_LSTM_GRU))\n",
        "print(\"MAE: \", mean_absolute_error(y_test[:,0:1],predicted_LSTM_GRU))\n",
        "print(\"R2 score:\", r2_score(y_test[:,0:1], predicted_LSTM_GRU))"
      ],
      "metadata": {
        "colab": {
          "base_uri": "https://localhost:8080/"
        },
        "id": "reFt32aJZU0Y",
        "outputId": "a77534fd-9f47-4aba-f35a-f4919536769e"
      },
      "execution_count": 49,
      "outputs": [
        {
          "output_type": "stream",
          "name": "stdout",
          "text": [
            "----------RNN----------\n",
            "MSE:  864.7330517330904\n",
            "MAE:  26.768070200786294\n",
            "R2 score: -9.382833814624084\n",
            "----------LSTM----------\n",
            "MSE:  347.6862886969581\n",
            "MAE:  17.26379700223797\n",
            "R2 score: -3.174662860323032\n",
            "----------MLP----------\n",
            "MSE:  137.05400859628668\n",
            "MAE:  9.663770474568949\n",
            "R2 score: -0.6456049552301983\n",
            "----------SVR----------\n",
            "MSE:  690.5230624507163\n",
            "MAE:  25.490619008634194\n",
            "R2 score: -7.291097684102455\n",
            "----------RANDOM FOREST----------\n",
            "MSE:  109.95813645872916\n",
            "MAE:  8.785041039142856\n",
            "R2 score: -0.32026531786729207\n",
            "----------KNN----------\n",
            "MSE:  83.55631821248771\n",
            "MAE:  7.609285599999997\n",
            "R2 score: -0.003259172785599729\n",
            "----------DECISION TREE----------\n",
            "MSE:  105.83504827385903\n",
            "MAE:  8.261285285714285\n",
            "R2 score: -0.2707594740224797\n",
            "----------LINEAR REGRESSION----------\n",
            "MSE:  115.40674076989917\n",
            "MAE:  9.895490116253173\n",
            "R2 score: -0.3856866094105511\n",
            "----------LSTM + GRU----------\n",
            "MSE:  145.57696769921012\n",
            "MAE:  9.971061246133766\n",
            "R2 score: -0.7479399680958865\n"
          ]
        }
      ]
    },
    {
      "cell_type": "markdown",
      "source": [
        "# ***TRANING TIME***"
      ],
      "metadata": {
        "id": "kHEuWdKbZY8y"
      }
    },
    {
      "cell_type": "code",
      "source": [
        "print('RNN:',end_RNN)\n",
        "print('LTSM:',end_LSTM)\n",
        "print('MLP:',end_MLP)\n",
        "print('SVR:',end_SVR)\n",
        "print('RANDOM FOREST:',end_RF)\n",
        "print('KNN:',end_KNN)\n",
        "print('DECISION TREE:',end_DT)\n",
        "print('LINEAR REGRESSION:',end_LR)\n",
        "print('LSTM + GRU:', end_LSTM_GRU)"
      ],
      "metadata": {
        "colab": {
          "base_uri": "https://localhost:8080/"
        },
        "id": "PrzTB4pOZaTs",
        "outputId": "114af396-446f-4e12-fa00-9203cc76d1fa"
      },
      "execution_count": 50,
      "outputs": [
        {
          "output_type": "stream",
          "name": "stdout",
          "text": [
            "RNN: 4.10901665687561\n",
            "LTSM: 4.021567344665527\n",
            "MLP: 0.6269762516021729\n",
            "SVR: 0.004752159118652344\n",
            "RANDOM FOREST: 0.14252591133117676\n",
            "KNN: 0.0006067752838134766\n",
            "DECISION TREE: 0.0026547908782958984\n",
            "LINEAR REGRESSION: 0.021271228790283203\n",
            "LSTM + GRU: 3.950535535812378\n"
          ]
        }
      ]
    },
    {
      "cell_type": "markdown",
      "source": [
        "# ***COMPARE MODELS***"
      ],
      "metadata": {
        "id": "7qbDxmU0lEaI"
      }
    },
    {
      "cell_type": "code",
      "source": [
        "plt.figure(figsize=(15,8))\n",
        "plt.plot(y_test[:,0:1], color=\"red\", label=\"Real Values\")\n",
        "plt.plot(predicted_RNN, color=\"blue\", label=\"RNN\")\n",
        "plt.plot(predicted_MLP, color=\"black\", label=\"MLP\")\n",
        "plt.plot(predicted_LSTM, color=\"orange\", label=\"LSTM\")\n",
        "plt.plot(predicted_SVR, color=\"green\", label=\"SVR\")\n",
        "plt.plot(predicted_KNN, color=\"yellow\", label=\"KNN\")\n",
        "plt.plot(predicted_DT, color=\"brown\", label=\"Decision Tree\")\n",
        "plt.plot(predicted_RF, color=\"purple\", label=\"Random Forest\")\n",
        "plt.plot(predicted_LR, color=\"pink\", label=\"Linear Regression\")\n",
        "plt.plot(predicted_LR, color=\"gray\", label=\"LSTM + GRU\")\n",
        "plt.title('Stock price prediction')\n",
        "plt.xlabel(\"Date\")\n",
        "plt.ylabel(\"Stock price\")\n",
        "plt.legend()\n",
        "plt.show()"
      ],
      "metadata": {
        "colab": {
          "base_uri": "https://localhost:8080/",
          "height": 513
        },
        "id": "Q0py293ylTZQ",
        "outputId": "1927f613-aae2-4151-84ab-d1b64f3df1d1"
      },
      "execution_count": 51,
      "outputs": [
        {
          "output_type": "display_data",
          "data": {
            "text/plain": [
              "<Figure size 1080x576 with 1 Axes>"
            ],
            "image/png": "[encoded data removed]"
          },
          "metadata": {
            "needs_background": "light"
          }
        }
      ]
    }
  ],
  "metadata": {
    "colab": {
      "provenance": [],
      "collapsed_sections": [
        "zMaJte_kRq7m",
        "wz9zS0ILX2WL",
        "itV3tUqVMJaQ",
        "uPjEgdOBMsYo",
        "_OiD4lqx3DHh",
        "-_I-EYivZQsi",
        "kHEuWdKbZY8y",
        "7qbDxmU0lEaI"
      ]
    },
    "kernelspec": {
      "display_name": "Python 3",
      "name": "python3"
    },
    "language_info": {
      "name": "python"
    }
  },
  "nbformat": 4,
  "nbformat_minor": 0
}